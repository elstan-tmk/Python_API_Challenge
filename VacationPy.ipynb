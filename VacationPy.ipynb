{
 "cells": [
  {
   "cell_type": "markdown",
   "metadata": {},
   "source": [
    "# VacationPy\n",
    "----\n",
    "\n",
    "#### Note\n",
    "* Keep an eye on your API usage. Use https://developers.google.com/maps/reporting/gmp-reporting as reference for how to monitor your usage and billing.\n",
    "\n",
    "* Instructions have been included for each segment. You do not have to follow them exactly, but they are included to help you think through the steps."
   ]
  },
  {
   "cell_type": "code",
   "execution_count": 12,
   "metadata": {},
   "outputs": [],
   "source": [
    "# Dependencies and Setup\n",
    "import matplotlib.pyplot as plt\n",
    "import pandas as pd\n",
    "import numpy as np\n",
    "import requests\n",
    "import gmaps\n",
    "import os\n",
    "\n",
    "# Import API key\n",
    "from api_keys import api_key\n",
    "\n",
    "gmaps.configure(api_key)"
   ]
  },
  {
   "cell_type": "markdown",
   "metadata": {},
   "source": [
    "### Store Part I results into DataFrame\n",
    "* Load the csv exported in Part I to a DataFrame"
   ]
  },
  {
   "cell_type": "code",
   "execution_count": 16,
   "metadata": {},
   "outputs": [
    {
     "output_type": "execute_result",
     "data": {
      "text/plain": [
       "   City_Data            City  Cloudiness Country        Date  Humidity  \\\n",
       "0          0    puerto ayora          40      EC  1615763509        74   \n",
       "1          1          dikson         100      RU  1615763801        99   \n",
       "2          2      georgetown          20      MY  1615763625        83   \n",
       "3          3  severo-kurilsk           0      RU  1615763802        77   \n",
       "4          4       ongwediva          94     NaN  1615763803        69   \n",
       "\n",
       "       Lat       Lng  Max Temp  Wind Speed  \n",
       "0  -0.7393  -90.3518     82.40        9.22  \n",
       "1  73.5069   80.5464    -25.73       11.36  \n",
       "2   5.4112  100.3354     78.80        5.75  \n",
       "3  50.6789  156.1250     33.57        4.36  \n",
       "4 -17.7833   15.7667     77.00        8.05  "
      ],
      "text/html": "<div>\n<style scoped>\n    .dataframe tbody tr th:only-of-type {\n        vertical-align: middle;\n    }\n\n    .dataframe tbody tr th {\n        vertical-align: top;\n    }\n\n    .dataframe thead th {\n        text-align: right;\n    }\n</style>\n<table border=\"1\" class=\"dataframe\">\n  <thead>\n    <tr style=\"text-align: right;\">\n      <th></th>\n      <th>City_Data</th>\n      <th>City</th>\n      <th>Cloudiness</th>\n      <th>Country</th>\n      <th>Date</th>\n      <th>Humidity</th>\n      <th>Lat</th>\n      <th>Lng</th>\n      <th>Max Temp</th>\n      <th>Wind Speed</th>\n    </tr>\n  </thead>\n  <tbody>\n    <tr>\n      <th>0</th>\n      <td>0</td>\n      <td>puerto ayora</td>\n      <td>40</td>\n      <td>EC</td>\n      <td>1615763509</td>\n      <td>74</td>\n      <td>-0.7393</td>\n      <td>-90.3518</td>\n      <td>82.40</td>\n      <td>9.22</td>\n    </tr>\n    <tr>\n      <th>1</th>\n      <td>1</td>\n      <td>dikson</td>\n      <td>100</td>\n      <td>RU</td>\n      <td>1615763801</td>\n      <td>99</td>\n      <td>73.5069</td>\n      <td>80.5464</td>\n      <td>-25.73</td>\n      <td>11.36</td>\n    </tr>\n    <tr>\n      <th>2</th>\n      <td>2</td>\n      <td>georgetown</td>\n      <td>20</td>\n      <td>MY</td>\n      <td>1615763625</td>\n      <td>83</td>\n      <td>5.4112</td>\n      <td>100.3354</td>\n      <td>78.80</td>\n      <td>5.75</td>\n    </tr>\n    <tr>\n      <th>3</th>\n      <td>3</td>\n      <td>severo-kurilsk</td>\n      <td>0</td>\n      <td>RU</td>\n      <td>1615763802</td>\n      <td>77</td>\n      <td>50.6789</td>\n      <td>156.1250</td>\n      <td>33.57</td>\n      <td>4.36</td>\n    </tr>\n    <tr>\n      <th>4</th>\n      <td>4</td>\n      <td>ongwediva</td>\n      <td>94</td>\n      <td>NaN</td>\n      <td>1615763803</td>\n      <td>69</td>\n      <td>-17.7833</td>\n      <td>15.7667</td>\n      <td>77.00</td>\n      <td>8.05</td>\n    </tr>\n  </tbody>\n</table>\n</div>"
     },
     "metadata": {},
     "execution_count": 16
    }
   ],
   "source": [
    "# Read the cities.csv file to Data Frame\n",
    "\n",
    "cities_data = pd.read_csv(\"output_data/cities.csv\", encoding = \"utf-8\")\n",
    "cities_data.head()"
   ]
  },
  {
   "cell_type": "markdown",
   "metadata": {},
   "source": [
    "### Humidity Heatmap\n",
    "* Configure gmaps.\n",
    "* Use the Lat and Lng as locations and Humidity as the weight.\n",
    "* Add Heatmap layer to map."
   ]
  },
  {
   "cell_type": "code",
   "execution_count": 17,
   "metadata": {},
   "outputs": [],
   "source": [
    "humidity = cities_data[\"Humidity\"].astype(float)\n",
    "max_humidity = humidity.max()\n",
    "locations = cities_data[[\"Lat\", \"Lng\"]]"
   ]
  },
  {
   "cell_type": "code",
   "execution_count": 15,
   "metadata": {},
   "outputs": [
    {
     "output_type": "display_data",
     "data": {
      "text/plain": "Figure(layout=FigureLayout(height='420px'))",
      "application/vnd.jupyter.widget-view+json": {
       "version_major": 2,
       "version_minor": 0,
       "model_id": "0e8b199fa43a4d059d3d1fc74d60df65"
      }
     },
     "metadata": {}
    }
   ],
   "source": [
    "fig = gmaps.figure()\n",
    "heat_layer = gmaps.heatmap_layer(locations, weights = humidity, dissipating= False, max_intensity=max_humidity)\n",
    "fig.add_layer(heat_layer)\n",
    "fig"
   ]
  },
  {
   "cell_type": "code",
   "execution_count": null,
   "metadata": {},
   "outputs": [],
   "source": []
  },
  {
   "cell_type": "markdown",
   "metadata": {},
   "source": [
    "### Create new DataFrame fitting weather criteria\n",
    "* Narrow down the cities to fit weather conditions.\n",
    "* Drop any rows will null values."
   ]
  },
  {
   "cell_type": "code",
   "execution_count": 28,
   "metadata": {},
   "outputs": [
    {
     "output_type": "execute_result",
     "data": {
      "text/plain": [
       "   City_Data            City  Cloudiness Country        Date  Humidity  \\\n",
       "0         24        belmonte           0      BR  1615763808        69   \n",
       "1         62      guaratinga           0      BR  1615763818        69   \n",
       "2         95  saint-philippe           0      RE  1615763331        78   \n",
       "3         96      sao filipe           0      CV  1615763348        71   \n",
       "4         97       caravelas           0      BR  1615763441        83   \n",
       "\n",
       "       Lat      Lng  Max Temp  Wind Speed  \n",
       "0 -15.8631 -38.8828     78.80       10.36  \n",
       "1 -16.5667 -39.5667     78.80       10.36  \n",
       "2 -21.3585  55.7679     78.80       16.11  \n",
       "3  14.8961 -24.4956     71.13        4.54  \n",
       "4 -17.7125 -39.2481     75.56        5.68  "
      ],
      "text/html": "<div>\n<style scoped>\n    .dataframe tbody tr th:only-of-type {\n        vertical-align: middle;\n    }\n\n    .dataframe tbody tr th {\n        vertical-align: top;\n    }\n\n    .dataframe thead th {\n        text-align: right;\n    }\n</style>\n<table border=\"1\" class=\"dataframe\">\n  <thead>\n    <tr style=\"text-align: right;\">\n      <th></th>\n      <th>City_Data</th>\n      <th>City</th>\n      <th>Cloudiness</th>\n      <th>Country</th>\n      <th>Date</th>\n      <th>Humidity</th>\n      <th>Lat</th>\n      <th>Lng</th>\n      <th>Max Temp</th>\n      <th>Wind Speed</th>\n    </tr>\n  </thead>\n  <tbody>\n    <tr>\n      <th>0</th>\n      <td>24</td>\n      <td>belmonte</td>\n      <td>0</td>\n      <td>BR</td>\n      <td>1615763808</td>\n      <td>69</td>\n      <td>-15.8631</td>\n      <td>-38.8828</td>\n      <td>78.80</td>\n      <td>10.36</td>\n    </tr>\n    <tr>\n      <th>1</th>\n      <td>62</td>\n      <td>guaratinga</td>\n      <td>0</td>\n      <td>BR</td>\n      <td>1615763818</td>\n      <td>69</td>\n      <td>-16.5667</td>\n      <td>-39.5667</td>\n      <td>78.80</td>\n      <td>10.36</td>\n    </tr>\n    <tr>\n      <th>2</th>\n      <td>95</td>\n      <td>saint-philippe</td>\n      <td>0</td>\n      <td>RE</td>\n      <td>1615763331</td>\n      <td>78</td>\n      <td>-21.3585</td>\n      <td>55.7679</td>\n      <td>78.80</td>\n      <td>16.11</td>\n    </tr>\n    <tr>\n      <th>3</th>\n      <td>96</td>\n      <td>sao filipe</td>\n      <td>0</td>\n      <td>CV</td>\n      <td>1615763348</td>\n      <td>71</td>\n      <td>14.8961</td>\n      <td>-24.4956</td>\n      <td>71.13</td>\n      <td>4.54</td>\n    </tr>\n    <tr>\n      <th>4</th>\n      <td>97</td>\n      <td>caravelas</td>\n      <td>0</td>\n      <td>BR</td>\n      <td>1615763441</td>\n      <td>83</td>\n      <td>-17.7125</td>\n      <td>-39.2481</td>\n      <td>75.56</td>\n      <td>5.68</td>\n    </tr>\n  </tbody>\n</table>\n</div>"
     },
     "metadata": {},
     "execution_count": 28
    }
   ],
   "source": [
    "hotel_df = cities_data.loc[(cities_data[\"Max Temp\"]> 70) & (cities_data[\"Max Temp\"] < 80) & (cities_data[\"Cloudiness\"] == 0), :]\n",
    "hotel_df = hotel_df.dropna(how = \"any\")\n",
    "hotel_df.reset_index(inplace=True)\n",
    "del hotel_df[\"index\"]\n",
    "hotel_df.head()"
   ]
  },
  {
   "cell_type": "markdown",
   "metadata": {},
   "source": [
    "### Hotel Map\n",
    "* Store into variable named `hotel_df`.\n",
    "* Add a \"Hotel Name\" column to the DataFrame.\n",
    "* Set parameters to search for hotels with 5000 meters.\n",
    "* Hit the Google Places API for each city's coordinates.\n",
    "* Store the first Hotel result into the DataFrame.\n",
    "* Plot markers on top of the heatmap."
   ]
  },
  {
   "cell_type": "code",
   "execution_count": 29,
   "metadata": {},
   "outputs": [
    {
     "output_type": "execute_result",
     "data": {
      "text/plain": [
       "   City_Data            City  Cloudiness Country        Date  Humidity  \\\n",
       "0         24        belmonte           0      BR  1615763808        69   \n",
       "1         62      guaratinga           0      BR  1615763818        69   \n",
       "2         95  saint-philippe           0      RE  1615763331        78   \n",
       "3         96      sao filipe           0      CV  1615763348        71   \n",
       "4         97       caravelas           0      BR  1615763441        83   \n",
       "\n",
       "       Lat      Lng  Max Temp  Wind Speed Hotel Name  \n",
       "0 -15.8631 -38.8828     78.80       10.36             \n",
       "1 -16.5667 -39.5667     78.80       10.36             \n",
       "2 -21.3585  55.7679     78.80       16.11             \n",
       "3  14.8961 -24.4956     71.13        4.54             \n",
       "4 -17.7125 -39.2481     75.56        5.68             "
      ],
      "text/html": "<div>\n<style scoped>\n    .dataframe tbody tr th:only-of-type {\n        vertical-align: middle;\n    }\n\n    .dataframe tbody tr th {\n        vertical-align: top;\n    }\n\n    .dataframe thead th {\n        text-align: right;\n    }\n</style>\n<table border=\"1\" class=\"dataframe\">\n  <thead>\n    <tr style=\"text-align: right;\">\n      <th></th>\n      <th>City_Data</th>\n      <th>City</th>\n      <th>Cloudiness</th>\n      <th>Country</th>\n      <th>Date</th>\n      <th>Humidity</th>\n      <th>Lat</th>\n      <th>Lng</th>\n      <th>Max Temp</th>\n      <th>Wind Speed</th>\n      <th>Hotel Name</th>\n    </tr>\n  </thead>\n  <tbody>\n    <tr>\n      <th>0</th>\n      <td>24</td>\n      <td>belmonte</td>\n      <td>0</td>\n      <td>BR</td>\n      <td>1615763808</td>\n      <td>69</td>\n      <td>-15.8631</td>\n      <td>-38.8828</td>\n      <td>78.80</td>\n      <td>10.36</td>\n      <td></td>\n    </tr>\n    <tr>\n      <th>1</th>\n      <td>62</td>\n      <td>guaratinga</td>\n      <td>0</td>\n      <td>BR</td>\n      <td>1615763818</td>\n      <td>69</td>\n      <td>-16.5667</td>\n      <td>-39.5667</td>\n      <td>78.80</td>\n      <td>10.36</td>\n      <td></td>\n    </tr>\n    <tr>\n      <th>2</th>\n      <td>95</td>\n      <td>saint-philippe</td>\n      <td>0</td>\n      <td>RE</td>\n      <td>1615763331</td>\n      <td>78</td>\n      <td>-21.3585</td>\n      <td>55.7679</td>\n      <td>78.80</td>\n      <td>16.11</td>\n      <td></td>\n    </tr>\n    <tr>\n      <th>3</th>\n      <td>96</td>\n      <td>sao filipe</td>\n      <td>0</td>\n      <td>CV</td>\n      <td>1615763348</td>\n      <td>71</td>\n      <td>14.8961</td>\n      <td>-24.4956</td>\n      <td>71.13</td>\n      <td>4.54</td>\n      <td></td>\n    </tr>\n    <tr>\n      <th>4</th>\n      <td>97</td>\n      <td>caravelas</td>\n      <td>0</td>\n      <td>BR</td>\n      <td>1615763441</td>\n      <td>83</td>\n      <td>-17.7125</td>\n      <td>-39.2481</td>\n      <td>75.56</td>\n      <td>5.68</td>\n      <td></td>\n    </tr>\n  </tbody>\n</table>\n</div>"
     },
     "metadata": {},
     "execution_count": 29
    }
   ],
   "source": [
    "hotellist = []\n",
    "\n",
    "for i in range(len(hotel_df)):\n",
    "    lat = hotel_df.loc[i][\"Lat\"]\n",
    "    lng = hotel_df.loc[i][\"Lng\"]\n",
    "\n",
    "    params = {\n",
    "        \"location\" : f\"{lat}, {lng}\",\n",
    "        \"radius\" : 5000,\n",
    "        \"types\" : \"hotel\",\n",
    "        \"key\" : api_key  \n",
    "    }\n",
    "    base_url = \"https://maps.googleapis.com/maps/api/place/nearbysearch/json\"\n",
    "    requested = requests.get(base_url, params = params)\n",
    "    jsn = requested.json()\n",
    "    try:\n",
    "        hotellist.append(jsn[\"results\"][0][\"name\"])\n",
    "    except:\n",
    "        hotellist.append(\"\")\n",
    "hotel_df[\"Hotel Name\"] = hotellist\n",
    "hotel_df = hotel_df.dropna(how = \"any\")\n",
    "hotel_df.head()        "
   ]
  },
  {
   "cell_type": "code",
   "execution_count": null,
   "metadata": {},
   "outputs": [],
   "source": []
  },
  {
   "cell_type": "code",
   "execution_count": 30,
   "metadata": {},
   "outputs": [],
   "source": [
    "# NOTE: Do not change any of the code in this cell\n",
    "\n",
    "# Using the template add the hotel marks to the heatmap\n",
    "info_box_template = \"\"\"\n",
    "<dl>\n",
    "<dt>Name</dt><dd>{Hotel Name}</dd>\n",
    "<dt>City</dt><dd>{City}</dd>\n",
    "<dt>Country</dt><dd>{Country}</dd>\n",
    "</dl>\n",
    "\"\"\"\n",
    "# Store the DataFrame Row\n",
    "# NOTE: be sure to update with your DataFrame name\n",
    "hotel_info = [info_box_template.format(**row) for index, row in hotel_df.iterrows()]\n",
    "locations = hotel_df[[\"Lat\", \"Lng\"]]"
   ]
  },
  {
   "cell_type": "code",
   "execution_count": 31,
   "metadata": {},
   "outputs": [
    {
     "output_type": "display_data",
     "data": {
      "text/plain": "Figure(layout=FigureLayout(height='420px'))",
      "application/vnd.jupyter.widget-view+json": {
       "version_major": 2,
       "version_minor": 0,
       "model_id": "0e8b199fa43a4d059d3d1fc74d60df65"
      }
     },
     "metadata": {}
    }
   ],
   "source": [
    "# Add marker layer ontop of heat map\n",
    "markers = gmaps.marker_layer(locations)\n",
    "fig.add_layer(markers)\n",
    "fig\n",
    "\n",
    "# Display figure\n"
   ]
  },
  {
   "cell_type": "code",
   "execution_count": null,
   "metadata": {},
   "outputs": [],
   "source": []
  }
 ],
 "metadata": {
  "kernelspec": {
   "name": "python3",
   "display_name": "Python 3.7.3 64-bit ('base': conda)",
   "metadata": {
    "interpreter": {
     "hash": "398dc28c06ad810e77de546bbdfa897a6ee0b83e59a5207339dda01a7843e01d"
    }
   }
  },
  "language_info": {
   "codemirror_mode": {
    "name": "ipython",
    "version": 3
   },
   "file_extension": ".py",
   "mimetype": "text/x-python",
   "name": "python",
   "nbconvert_exporter": "python",
   "pygments_lexer": "ipython3",
   "version": "3.7.3-final"
  },
  "latex_envs": {
   "LaTeX_envs_menu_present": true,
   "autoclose": false,
   "autocomplete": true,
   "bibliofile": "biblio.bib",
   "cite_by": "apalike",
   "current_citInitial": 1,
   "eqLabelWithNumbers": true,
   "eqNumInitial": 1,
   "hotkeys": {
    "equation": "Ctrl-E",
    "itemize": "Ctrl-I"
   },
   "labels_anchors": false,
   "latex_user_defs": false,
   "report_style_numbering": false,
   "user_envs_cfg": false
  }
 },
 "nbformat": 4,
 "nbformat_minor": 4
}